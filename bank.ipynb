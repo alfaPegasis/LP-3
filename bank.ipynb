{
  "nbformat": 4,
  "nbformat_minor": 0,
  "metadata": {
    "colab": {
      "provenance": [],
      "authorship_tag": "ABX9TyN0HqlGOM/pGc5ZLtFrVCWb",
      "include_colab_link": true
    },
    "kernelspec": {
      "name": "python3",
      "display_name": "Python 3"
    },
    "language_info": {
      "name": "python"
    }
  },
  "cells": [
    {
      "cell_type": "markdown",
      "metadata": {
        "id": "view-in-github",
        "colab_type": "text"
      },
      "source": [
        "<a href=\"https://colab.research.google.com/gist/hkrobotics/d001400adbb95da0511781accd31b52c/bank.ipynb\" target=\"_parent\"><img src=\"https://colab.research.google.com/assets/colab-badge.svg\" alt=\"Open In Colab\"/></a>"
      ]
    },
    {
      "cell_type": "code",
      "execution_count": null,
      "metadata": {
        "id": "C5ZmVaYPAcei"
      },
      "outputs": [],
      "source": [
        "import pandas as pd\n",
        "df = pd.read_csv(\"https://raw.githubusercontent.com/hkrobotics/datasets-lp3/main/Churn_Modelling.csv\")\n"
      ]
    },
    {
      "cell_type": "code",
      "source": [
        "df.drop(columns=[\"RowNumber\",\"CustomerId\",\"Surname\"],inplace=True)"
      ],
      "metadata": {
        "id": "cgwnOz2UxlK1"
      },
      "execution_count": 4,
      "outputs": []
    },
    {
      "cell_type": "code",
      "source": [
        "df.drop(columns=[\"IsActiveMember\"],inplace=True)"
      ],
      "metadata": {
        "id": "TEUQViDtyd1C"
      },
      "execution_count": 7,
      "outputs": []
    },
    {
      "cell_type": "code",
      "source": [
        "from sklearn.preprocessing import LabelEncoder\n",
        "le = LabelEncoder()\n",
        "df[\"Geography\"] = le.fit_transform(df[\"Geography\"])"
      ],
      "metadata": {
        "id": "e38a4JCyypP7"
      },
      "execution_count": 8,
      "outputs": []
    },
    {
      "cell_type": "code",
      "source": [
        "df[\"Gender\"] = le.fit_transform(df[\"Gender\"])"
      ],
      "metadata": {
        "id": "Plq9PO79zFRm"
      },
      "execution_count": 10,
      "outputs": []
    },
    {
      "cell_type": "code",
      "source": [
        "X = df.drop(columns=[\"Exited\"])\n",
        "Y = df[\"Exited\"]"
      ],
      "metadata": {
        "id": "XGHOA1qVzPml"
      },
      "execution_count": 11,
      "outputs": []
    },
    {
      "cell_type": "code",
      "source": [
        "from sklearn.model_selection import train_test_split\n",
        "xtrain,xtest,ytrain,ytest = train_test_split(X,Y,test_size=0.2,random_state=0)\n"
      ],
      "metadata": {
        "id": "6YIDz-g1zdqy"
      },
      "execution_count": 12,
      "outputs": []
    },
    {
      "cell_type": "code",
      "source": [
        "from sklearn.preprocessing import StandardScaler\n",
        "ss = StandardScaler()\n",
        "xtrain = ss.fit_transform(xtrain)\n",
        "xtest = ss.fit_transform(xtest)\n"
      ],
      "metadata": {
        "id": "pI9lpDszz6CJ"
      },
      "execution_count": 15,
      "outputs": []
    },
    {
      "cell_type": "code",
      "source": [
        "!pip install keras\n",
        "!pip install tensorflow"
      ],
      "metadata": {
        "id": "EtHb1t1x0W35"
      },
      "execution_count": null,
      "outputs": []
    },
    {
      "cell_type": "code",
      "source": [
        "from keras.models import Sequential #seq neural nework\n",
        "from keras.layers import Dense #hidden layers\n",
        "classifier = Sequential()\n",
        "classifier.add(Dense(activation=\"relu\",input_dim=9,units=6,kernel_initializer=\"uniform\"))\n",
        "classifier.add(Dense(activation = \"relu\",units = 6,kernel_initializer = \"uniform\"))   \n",
        "classifier.add(Dense(activation = \"sigmoid\",units = 1,kernel_initializer = \"uniform\")) \n",
        "classifier.compile(optimizer=\"adam\",loss = 'binary_crossentropy',metrics = ['accuracy'])\n",
        "classifier.summary() \n",
        "classifier.fit(xtrain,ytrain,batch_size=10,epochs=50) "
      ],
      "metadata": {
        "id": "rbEa2lcO0gmJ"
      },
      "execution_count": null,
      "outputs": []
    },
    {
      "cell_type": "code",
      "source": [
        "ypred = classifier.predict(xtest)\n",
        "ypred = (ypred > 0.5)"
      ],
      "metadata": {
        "colab": {
          "base_uri": "https://localhost:8080/"
        },
        "id": "28Tw-XW92IfL",
        "outputId": "712230fb-830b-4cd4-97c6-0319adeed323"
      },
      "execution_count": 18,
      "outputs": [
        {
          "output_type": "stream",
          "name": "stdout",
          "text": [
            "63/63 [==============================] - 0s 746us/step\n"
          ]
        }
      ]
    },
    {
      "cell_type": "code",
      "source": [
        "from sklearn.metrics import confusion_matrix,accuracy_score,classification_report\n",
        "cm = confusion_matrix(ytest,ypred)\n",
        "cm"
      ],
      "metadata": {
        "colab": {
          "base_uri": "https://localhost:8080/"
        },
        "id": "b4xkJ7ag3NwH",
        "outputId": "8c0fab87-d8c8-4880-9e73-cbee00e99f68"
      },
      "execution_count": 19,
      "outputs": [
        {
          "output_type": "execute_result",
          "data": {
            "text/plain": [
              "array([[1554,   41],\n",
              "       [ 315,   90]])"
            ]
          },
          "metadata": {},
          "execution_count": 19
        }
      ]
    },
    {
      "cell_type": "code",
      "source": [
        "acc = accuracy_score(ytest,ypred)\n",
        "acc"
      ],
      "metadata": {
        "colab": {
          "base_uri": "https://localhost:8080/"
        },
        "id": "_q0goWQd3cqo",
        "outputId": "aff3b4b3-5c9f-48fb-8497-c6eeb3756a49"
      },
      "execution_count": 21,
      "outputs": [
        {
          "output_type": "execute_result",
          "data": {
            "text/plain": [
              "0.822"
            ]
          },
          "metadata": {},
          "execution_count": 21
        }
      ]
    },
    {
      "cell_type": "code",
      "source": [],
      "metadata": {
        "id": "9ur6eUgs3ntf"
      },
      "execution_count": null,
      "outputs": []
    }
  ]
}