{
  "nbformat": 4,
  "nbformat_minor": 0,
  "metadata": {
    "colab": {
      "provenance": [],
      "authorship_tag": "ABX9TyP5390e9s7G5Bp6XxVYnsFT",
      "include_colab_link": true
    },
    "kernelspec": {
      "name": "python3",
      "display_name": "Python 3"
    },
    "language_info": {
      "name": "python"
    }
  },
  "cells": [
    {
      "cell_type": "markdown",
      "metadata": {
        "id": "view-in-github",
        "colab_type": "text"
      },
      "source": [
        "<a href=\"https://colab.research.google.com/gist/hkrobotics/3425a3c7ebc79f059a10d6a619736a84/uber.ipynb\" target=\"_parent\"><img src=\"https://colab.research.google.com/assets/colab-badge.svg\" alt=\"Open In Colab\"/></a>"
      ]
    },
    {
      "cell_type": "code",
      "execution_count": 161,
      "metadata": {
        "id": "_iF73Rd81Kuk"
      },
      "outputs": [],
      "source": [
        "import pandas as pd\n",
        "import numpy as np"
      ]
    },
    {
      "cell_type": "code",
      "source": [
        "df = pd.read_csv(\"https://raw.githubusercontent.com/hkrobotics/datasets-lp3/main/uber.csv\")\n",
        "df.head()"
      ],
      "metadata": {
        "id": "SfxttK6e1Qcr"
      },
      "execution_count": null,
      "outputs": []
    },
    {
      "cell_type": "code",
      "source": [
        "df = df.dropna()"
      ],
      "metadata": {
        "id": "U7eGNp5Q1iFc"
      },
      "execution_count": 164,
      "outputs": []
    },
    {
      "cell_type": "code",
      "source": [
        "df = df.drop(columns=[\"Unnamed: 0\",\"key\"])"
      ],
      "metadata": {
        "id": "_U2xtAi910CD"
      },
      "execution_count": 167,
      "outputs": []
    },
    {
      "cell_type": "code",
      "source": [
        "df[\"pickup_datetime\"] = pd.to_datetime(df[\"pickup_datetime\"])"
      ],
      "metadata": {
        "id": "Dcukd34p2Q4i"
      },
      "execution_count": 170,
      "outputs": []
    },
    {
      "cell_type": "code",
      "source": [
        "df[\"time\"] = df[\"pickup_datetime\"].dt.time\n",
        "df[\"hour\"] = df[\"time\"].apply(lambda x: int(str(x).split(\":\")[0]))"
      ],
      "metadata": {
        "id": "wOOyP3tp67PR"
      },
      "execution_count": 171,
      "outputs": []
    },
    {
      "cell_type": "code",
      "source": [
        "x = df.drop(columns=[\"fare_amount\",\"time\",\"pickup_datetime\"])\n",
        "y = df.iloc[:,:1]\n",
        "\n",
        "from sklearn.model_selection import train_test_split\n",
        "xtrain,xtest,ytrain,ytest = train_test_split(x,y,test_size=0.2,random_state=0)"
      ],
      "metadata": {
        "id": "bswAqhWe3YxJ"
      },
      "execution_count": 174,
      "outputs": []
    },
    {
      "cell_type": "code",
      "source": [
        "from sklearn.linear_model import LinearRegression\n",
        "lr = LinearRegression()\n",
        "lr.fit(xtrain,ytrain)\n",
        "lr_pred = lr.predict(xtest)"
      ],
      "metadata": {
        "id": "BEAcL-qa5Mtt"
      },
      "execution_count": 177,
      "outputs": []
    },
    {
      "cell_type": "code",
      "source": [
        "from sklearn.metrics import r2_score,mean_squared_error\n",
        "print(\"RMSE : \",mean_squared_error(ytest,lr_pred))"
      ],
      "metadata": {
        "colab": {
          "base_uri": "https://localhost:8080/"
        },
        "id": "ymlBlrZB5kKG",
        "outputId": "f6ead4ca-e17d-4d05-b3a9-54180b42be1a"
      },
      "execution_count": 179,
      "outputs": [
        {
          "output_type": "stream",
          "name": "stdout",
          "text": [
            "RMSE :  101.10050591892173\n"
          ]
        }
      ]
    },
    {
      "cell_type": "code",
      "source": [
        "from sklearn.ensemble import RandomForestRegressor\n",
        "rf = RandomForestRegressor(n_estimators=100,random_state=5)\n",
        "rf.fit(xtrain,ytrain)\n",
        "rf_pred = rf.predict(xtest)\n"
      ],
      "metadata": {
        "colab": {
          "base_uri": "https://localhost:8080/"
        },
        "id": "hcw7efCW-TWx",
        "outputId": "b2acf76f-616f-4010-d94e-6537053a2871"
      },
      "execution_count": null,
      "outputs": [
        {
          "output_type": "stream",
          "name": "stderr",
          "text": [
            "/usr/local/lib/python3.7/dist-packages/ipykernel_launcher.py:3: DataConversionWarning: A column-vector y was passed when a 1d array was expected. Please change the shape of y to (n_samples,), for example using ravel().\n",
            "  This is separate from the ipykernel package so we can avoid doing imports until\n"
          ]
        }
      ]
    },
    {
      "cell_type": "code",
      "source": [
        "print(\"Random Forest MSE : \",mean_squared_error(ytest,rf_pred))"
      ],
      "metadata": {
        "id": "VAFltrF9_L-B"
      },
      "execution_count": null,
      "outputs": []
    }
  ]
}